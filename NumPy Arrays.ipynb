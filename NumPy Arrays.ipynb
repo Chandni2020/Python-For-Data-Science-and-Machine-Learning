{
 "cells": [
  {
   "cell_type": "code",
   "execution_count": 1,
   "id": "d75d426d",
   "metadata": {},
   "outputs": [],
   "source": [
    "#conda install numpy"
   ]
  },
  {
   "cell_type": "code",
   "execution_count": 2,
   "id": "72175e30",
   "metadata": {},
   "outputs": [],
   "source": [
    "my_list = [1,2,3]"
   ]
  },
  {
   "cell_type": "code",
   "execution_count": 3,
   "id": "30bddc79",
   "metadata": {},
   "outputs": [],
   "source": [
    "import numpy as np"
   ]
  },
  {
   "cell_type": "code",
   "execution_count": 4,
   "id": "7d53b952",
   "metadata": {},
   "outputs": [
    {
     "data": {
      "text/plain": [
       "array([1, 2, 3])"
      ]
     },
     "execution_count": 4,
     "metadata": {},
     "output_type": "execute_result"
    }
   ],
   "source": [
    "np.array(my_list)"
   ]
  },
  {
   "cell_type": "code",
   "execution_count": 5,
   "id": "9882eaf9",
   "metadata": {},
   "outputs": [],
   "source": [
    "arr = np.array(my_list)"
   ]
  },
  {
   "cell_type": "code",
   "execution_count": 6,
   "id": "06580a01",
   "metadata": {},
   "outputs": [
    {
     "data": {
      "text/plain": [
       "array([1, 2, 3])"
      ]
     },
     "execution_count": 6,
     "metadata": {},
     "output_type": "execute_result"
    }
   ],
   "source": [
    "arr"
   ]
  },
  {
   "cell_type": "code",
   "execution_count": 7,
   "id": "13cfec28",
   "metadata": {},
   "outputs": [],
   "source": [
    "my_mat = [[1,2,3], [4,5,6], [7,8,9]]"
   ]
  },
  {
   "cell_type": "code",
   "execution_count": 8,
   "id": "891a2980",
   "metadata": {},
   "outputs": [
    {
     "data": {
      "text/plain": [
       "[[1, 2, 3], [4, 5, 6], [7, 8, 9]]"
      ]
     },
     "execution_count": 8,
     "metadata": {},
     "output_type": "execute_result"
    }
   ],
   "source": [
    "my_mat"
   ]
  },
  {
   "cell_type": "code",
   "execution_count": 9,
   "id": "b1241afc",
   "metadata": {},
   "outputs": [
    {
     "data": {
      "text/plain": [
       "array([[1, 2, 3],\n",
       "       [4, 5, 6],\n",
       "       [7, 8, 9]])"
      ]
     },
     "execution_count": 9,
     "metadata": {},
     "output_type": "execute_result"
    }
   ],
   "source": [
    "np.array(my_mat)"
   ]
  },
  {
   "cell_type": "code",
   "execution_count": 10,
   "id": "65b187f9",
   "metadata": {},
   "outputs": [
    {
     "data": {
      "text/plain": [
       "array([ 0,  1,  2,  3,  4,  5,  6,  7,  8,  9, 10])"
      ]
     },
     "execution_count": 10,
     "metadata": {},
     "output_type": "execute_result"
    }
   ],
   "source": [
    "np.arange(0,11)"
   ]
  },
  {
   "cell_type": "code",
   "execution_count": 11,
   "id": "8406932d",
   "metadata": {},
   "outputs": [
    {
     "data": {
      "text/plain": [
       "array([ 0,  2,  4,  6,  8, 10])"
      ]
     },
     "execution_count": 11,
     "metadata": {},
     "output_type": "execute_result"
    }
   ],
   "source": [
    "np.arange(0,11,2) #to get even numbers, by adding step size"
   ]
  },
  {
   "cell_type": "code",
   "execution_count": 12,
   "id": "ceb36253",
   "metadata": {},
   "outputs": [
    {
     "data": {
      "text/plain": [
       "array([0., 0., 0.])"
      ]
     },
     "execution_count": 12,
     "metadata": {},
     "output_type": "execute_result"
    }
   ],
   "source": [
    "np.zeros(3)"
   ]
  },
  {
   "cell_type": "code",
   "execution_count": 13,
   "id": "8595caf1",
   "metadata": {},
   "outputs": [
    {
     "data": {
      "text/plain": [
       "array([[0., 0., 0., 0., 0.],\n",
       "       [0., 0., 0., 0., 0.],\n",
       "       [0., 0., 0., 0., 0.],\n",
       "       [0., 0., 0., 0., 0.],\n",
       "       [0., 0., 0., 0., 0.]])"
      ]
     },
     "execution_count": 13,
     "metadata": {},
     "output_type": "execute_result"
    }
   ],
   "source": [
    "np.zeros((5,5))#by adding tuples of dimensions"
   ]
  },
  {
   "cell_type": "code",
   "execution_count": 14,
   "id": "0967dfc6",
   "metadata": {},
   "outputs": [
    {
     "data": {
      "text/plain": [
       "array([[0., 0., 0.],\n",
       "       [0., 0., 0.]])"
      ]
     },
     "execution_count": 14,
     "metadata": {},
     "output_type": "execute_result"
    }
   ],
   "source": [
    "np.zeros((2,3))\n",
    "#two dimensional arrays, clear from two brackets[[]]"
   ]
  },
  {
   "cell_type": "code",
   "execution_count": 15,
   "id": "f4b8dcbf",
   "metadata": {},
   "outputs": [
    {
     "data": {
      "text/plain": [
       "array([1., 1., 1., 1.])"
      ]
     },
     "execution_count": 15,
     "metadata": {},
     "output_type": "execute_result"
    }
   ],
   "source": [
    "np.ones(4)"
   ]
  },
  {
   "cell_type": "code",
   "execution_count": 16,
   "id": "c5b08cfa",
   "metadata": {},
   "outputs": [
    {
     "data": {
      "text/plain": [
       "array([[1., 1., 1., 1.],\n",
       "       [1., 1., 1., 1.],\n",
       "       [1., 1., 1., 1.]])"
      ]
     },
     "execution_count": 16,
     "metadata": {},
     "output_type": "execute_result"
    }
   ],
   "source": [
    "np.ones((3,4))"
   ]
  },
  {
   "cell_type": "code",
   "execution_count": 17,
   "id": "3345eb72",
   "metadata": {},
   "outputs": [
    {
     "data": {
      "text/plain": [
       "array([0.        , 0.55555556, 1.11111111, 1.66666667, 2.22222222,\n",
       "       2.77777778, 3.33333333, 3.88888889, 4.44444444, 5.        ])"
      ]
     },
     "execution_count": 17,
     "metadata": {},
     "output_type": "execute_result"
    }
   ],
   "source": [
    "np.linspace(0,5,10)"
   ]
  },
  {
   "cell_type": "code",
   "execution_count": 18,
   "id": "d099264e",
   "metadata": {},
   "outputs": [
    {
     "data": {
      "text/plain": [
       "array([0.        , 0.05050505, 0.1010101 , 0.15151515, 0.2020202 ,\n",
       "       0.25252525, 0.3030303 , 0.35353535, 0.4040404 , 0.45454545,\n",
       "       0.50505051, 0.55555556, 0.60606061, 0.65656566, 0.70707071,\n",
       "       0.75757576, 0.80808081, 0.85858586, 0.90909091, 0.95959596,\n",
       "       1.01010101, 1.06060606, 1.11111111, 1.16161616, 1.21212121,\n",
       "       1.26262626, 1.31313131, 1.36363636, 1.41414141, 1.46464646,\n",
       "       1.51515152, 1.56565657, 1.61616162, 1.66666667, 1.71717172,\n",
       "       1.76767677, 1.81818182, 1.86868687, 1.91919192, 1.96969697,\n",
       "       2.02020202, 2.07070707, 2.12121212, 2.17171717, 2.22222222,\n",
       "       2.27272727, 2.32323232, 2.37373737, 2.42424242, 2.47474747,\n",
       "       2.52525253, 2.57575758, 2.62626263, 2.67676768, 2.72727273,\n",
       "       2.77777778, 2.82828283, 2.87878788, 2.92929293, 2.97979798,\n",
       "       3.03030303, 3.08080808, 3.13131313, 3.18181818, 3.23232323,\n",
       "       3.28282828, 3.33333333, 3.38383838, 3.43434343, 3.48484848,\n",
       "       3.53535354, 3.58585859, 3.63636364, 3.68686869, 3.73737374,\n",
       "       3.78787879, 3.83838384, 3.88888889, 3.93939394, 3.98989899,\n",
       "       4.04040404, 4.09090909, 4.14141414, 4.19191919, 4.24242424,\n",
       "       4.29292929, 4.34343434, 4.39393939, 4.44444444, 4.49494949,\n",
       "       4.54545455, 4.5959596 , 4.64646465, 4.6969697 , 4.74747475,\n",
       "       4.7979798 , 4.84848485, 4.8989899 , 4.94949495, 5.        ])"
      ]
     },
     "execution_count": 18,
     "metadata": {},
     "output_type": "execute_result"
    }
   ],
   "source": [
    "np.linspace(0,5,100) \n",
    "#it looks l;ike two dimnsional, but it is one dim.\n",
    "# its a one dimensional array as one bracket [] is there "
   ]
  },
  {
   "cell_type": "code",
   "execution_count": 19,
   "id": "18bb79b5",
   "metadata": {},
   "outputs": [],
   "source": [
    "#arange: in this third argument is the step size.\n",
    "\n",
    "\n",
    "#linspace: in this third argument is the number of points we need."
   ]
  },
  {
   "cell_type": "code",
   "execution_count": 20,
   "id": "db77158a",
   "metadata": {},
   "outputs": [],
   "source": [
    "#creating identity matrix using numPy\n",
    "#identity matrix means no of rows and columns are equal\n",
    "# diagonal elemnets are 1 and others are all zeros\n",
    "#useful in linear algebra problems"
   ]
  },
  {
   "cell_type": "code",
   "execution_count": 21,
   "id": "3b7d5d3e",
   "metadata": {},
   "outputs": [
    {
     "data": {
      "text/plain": [
       "array([[1., 0., 0., 0.],\n",
       "       [0., 1., 0., 0.],\n",
       "       [0., 0., 1., 0.],\n",
       "       [0., 0., 0., 1.]])"
      ]
     },
     "execution_count": 21,
     "metadata": {},
     "output_type": "execute_result"
    }
   ],
   "source": [
    "np.eye(4)"
   ]
  },
  {
   "cell_type": "code",
   "execution_count": 22,
   "id": "a958691d",
   "metadata": {},
   "outputs": [
    {
     "data": {
      "text/plain": [
       "array([[1., 0., 0., 0., 0.],\n",
       "       [0., 1., 0., 0., 0.],\n",
       "       [0., 0., 1., 0., 0.],\n",
       "       [0., 0., 0., 1., 0.],\n",
       "       [0., 0., 0., 0., 1.]])"
      ]
     },
     "execution_count": 22,
     "metadata": {},
     "output_type": "execute_result"
    }
   ],
   "source": [
    "np.eye(5)"
   ]
  },
  {
   "cell_type": "code",
   "execution_count": 23,
   "id": "bb9397b3",
   "metadata": {},
   "outputs": [
    {
     "data": {
      "text/plain": [
       "array([[1., 0.],\n",
       "       [0., 1.]])"
      ]
     },
     "execution_count": 23,
     "metadata": {},
     "output_type": "execute_result"
    }
   ],
   "source": [
    "np.eye(2)"
   ]
  },
  {
   "cell_type": "code",
   "execution_count": 24,
   "id": "a0cf2988",
   "metadata": {},
   "outputs": [],
   "source": [
    "#Few ways to create arrays of random numbers"
   ]
  },
  {
   "cell_type": "code",
   "execution_count": 25,
   "id": "6d1f97aa",
   "metadata": {},
   "outputs": [],
   "source": [
    "######-------------rand method -------------#####"
   ]
  },
  {
   "cell_type": "code",
   "execution_count": 26,
   "id": "293c294c",
   "metadata": {},
   "outputs": [
    {
     "data": {
      "text/plain": [
       "array([0.58218776, 0.21117692, 0.12637009, 0.98757278, 0.6743819 ])"
      ]
     },
     "execution_count": 26,
     "metadata": {},
     "output_type": "execute_result"
    }
   ],
   "source": [
    "np.random.rand(5)\n",
    "#using rand is going to create an array of the given shape you pass in\n",
    "#single digit to get back one dimensional array\n",
    "#from 0 to 1 , any five .."
   ]
  },
  {
   "cell_type": "code",
   "execution_count": 27,
   "id": "33fc0c31",
   "metadata": {},
   "outputs": [
    {
     "data": {
      "text/plain": [
       "array([[0.78524733, 0.62889464, 0.03470802, 0.23060739, 0.10060745],\n",
       "       [0.77825206, 0.73742973, 0.19488522, 0.12598895, 0.85408073],\n",
       "       [0.19596058, 0.60177967, 0.89385296, 0.6998209 , 0.06057199],\n",
       "       [0.41283505, 0.30708739, 0.45085858, 0.12991582, 0.01041625],\n",
       "       [0.13168488, 0.45674687, 0.18866554, 0.52615275, 0.82066895]])"
      ]
     },
     "execution_count": 27,
     "metadata": {},
     "output_type": "execute_result"
    }
   ],
   "source": [
    "np.random.rand(5,5)\n",
    "#to get two dimensioanl, unlike passing the tupleslike(()), just pass in\n",
    "#the dimensions as separate arguments using()\n",
    "#"
   ]
  },
  {
   "cell_type": "code",
   "execution_count": 28,
   "id": "5e7fb429",
   "metadata": {},
   "outputs": [],
   "source": [
    "######-------------rand n method -------------#####"
   ]
  },
  {
   "cell_type": "code",
   "execution_count": 29,
   "id": "be8d7806",
   "metadata": {},
   "outputs": [],
   "source": [
    "#if we want to return a sample or many samples from the standard\n",
    "#normal distribution or a Gaussian distribution, instead of using \n",
    "#rand, we will use 'rand n' here"
   ]
  },
  {
   "cell_type": "code",
   "execution_count": 30,
   "id": "3a90a7ab",
   "metadata": {},
   "outputs": [
    {
     "data": {
      "text/plain": [
       "array([-1.06655816, -1.99774805])"
      ]
     },
     "execution_count": 30,
     "metadata": {},
     "output_type": "execute_result"
    }
   ],
   "source": [
    "np.random.randn(2)\n",
    "#it will return numbers not from distribution 0 to 1 but instead\n",
    "#from a standard normal distribution centre around zero."
   ]
  },
  {
   "cell_type": "code",
   "execution_count": 31,
   "id": "1d862983",
   "metadata": {},
   "outputs": [],
   "source": [
    "# so for two dimensions, just passing two variables"
   ]
  },
  {
   "cell_type": "code",
   "execution_count": 32,
   "id": "96136f8d",
   "metadata": {},
   "outputs": [
    {
     "data": {
      "text/plain": [
       "array([[ 0.05900705, -0.09856814, -3.49937531, -0.32720688],\n",
       "       [-0.36069552,  0.67882676, -0.41027655, -0.40771803],\n",
       "       [-1.19706765,  1.14934701, -0.22744174,  0.09336043],\n",
       "       [ 1.19751491, -0.21482092,  0.23334325,  0.29936042]])"
      ]
     },
     "execution_count": 32,
     "metadata": {},
     "output_type": "execute_result"
    }
   ],
   "source": [
    "np.random.randn(4,4)"
   ]
  },
  {
   "cell_type": "code",
   "execution_count": 33,
   "id": "6b132e27",
   "metadata": {},
   "outputs": [],
   "source": [
    "######-------------randint method -------------#####"
   ]
  },
  {
   "cell_type": "code",
   "execution_count": 34,
   "id": "3a757d36",
   "metadata": {},
   "outputs": [],
   "source": [
    "# next method to get random numbers is 'rand int'. it returns\n",
    "# random integers from a low to high number \n",
    "#inclusive of the low number but exclusive of high number\n",
    "#(1,100), 1 is included but 100 not"
   ]
  },
  {
   "cell_type": "code",
   "execution_count": 35,
   "id": "268b20f9",
   "metadata": {},
   "outputs": [
    {
     "data": {
      "text/plain": [
       "72"
      ]
     },
     "execution_count": 35,
     "metadata": {},
     "output_type": "execute_result"
    }
   ],
   "source": [
    "np.random.randint(1,100)"
   ]
  },
  {
   "cell_type": "code",
   "execution_count": 36,
   "id": "4d6d3a24",
   "metadata": {},
   "outputs": [
    {
     "data": {
      "text/plain": [
       "array([14,  5, 12, 91, 49, 61, 71, 23, 54, 75])"
      ]
     },
     "execution_count": 36,
     "metadata": {},
     "output_type": "execute_result"
    }
   ],
   "source": [
    "np.random.randint(1,100,10)"
   ]
  },
  {
   "cell_type": "code",
   "execution_count": 37,
   "id": "10c78efc",
   "metadata": {},
   "outputs": [],
   "source": [
    "arr = np.arange(25)"
   ]
  },
  {
   "cell_type": "code",
   "execution_count": 38,
   "id": "aa5e95f5",
   "metadata": {},
   "outputs": [
    {
     "data": {
      "text/plain": [
       "array([ 0,  1,  2,  3,  4,  5,  6,  7,  8,  9, 10, 11, 12, 13, 14, 15, 16,\n",
       "       17, 18, 19, 20, 21, 22, 23, 24])"
      ]
     },
     "execution_count": 38,
     "metadata": {},
     "output_type": "execute_result"
    }
   ],
   "source": [
    "arr"
   ]
  },
  {
   "cell_type": "code",
   "execution_count": 39,
   "id": "ec34a141",
   "metadata": {},
   "outputs": [],
   "source": [
    "ranarr = np.random.randint(0,50,10)"
   ]
  },
  {
   "cell_type": "code",
   "execution_count": 40,
   "id": "4cbf7132",
   "metadata": {},
   "outputs": [
    {
     "data": {
      "text/plain": [
       "array([39, 30, 41, 40,  6, 20,  5,  3,  7,  2])"
      ]
     },
     "execution_count": 40,
     "metadata": {},
     "output_type": "execute_result"
    }
   ],
   "source": [
    "ranarr"
   ]
  },
  {
   "cell_type": "code",
   "execution_count": 41,
   "id": "c30b5fea",
   "metadata": {},
   "outputs": [],
   "source": [
    "######-------------reshape method -------------#####"
   ]
  },
  {
   "cell_type": "code",
   "execution_count": 42,
   "id": "1f8b20b0",
   "metadata": {},
   "outputs": [],
   "source": [
    "#reshape method is f=going to return an array containing the \n",
    "#same data of a new shape"
   ]
  },
  {
   "cell_type": "code",
   "execution_count": 43,
   "id": "3f29de88",
   "metadata": {},
   "outputs": [
    {
     "data": {
      "text/plain": [
       "array([[ 0,  1,  2,  3,  4],\n",
       "       [ 5,  6,  7,  8,  9],\n",
       "       [10, 11, 12, 13, 14],\n",
       "       [15, 16, 17, 18, 19],\n",
       "       [20, 21, 22, 23, 24]])"
      ]
     },
     "execution_count": 43,
     "metadata": {},
     "output_type": "execute_result"
    }
   ],
   "source": [
    "arr.reshape(5,5)\n",
    "#here in 'arr' defined above have only 25 elements.\n",
    "#so to reshape command will be 5X5 only.\n",
    "# to get more (5,10), 50 elements should be there."
   ]
  },
  {
   "cell_type": "code",
   "execution_count": 44,
   "id": "ba29b2dc",
   "metadata": {},
   "outputs": [],
   "source": [
    "#arr.reshape(4,4)\n",
    "#for this as well, error is there"
   ]
  },
  {
   "cell_type": "code",
   "execution_count": 45,
   "id": "2296d1ac",
   "metadata": {},
   "outputs": [],
   "source": [
    "#########--------Max, Min or index location-------------_########"
   ]
  },
  {
   "cell_type": "code",
   "execution_count": 46,
   "id": "2c89ffdb",
   "metadata": {},
   "outputs": [
    {
     "data": {
      "text/plain": [
       "41"
      ]
     },
     "execution_count": 46,
     "metadata": {},
     "output_type": "execute_result"
    }
   ],
   "source": [
    "ranarr.max()"
   ]
  },
  {
   "cell_type": "code",
   "execution_count": 47,
   "id": "fd6e2e09",
   "metadata": {},
   "outputs": [
    {
     "data": {
      "text/plain": [
       "2"
      ]
     },
     "execution_count": 47,
     "metadata": {},
     "output_type": "execute_result"
    }
   ],
   "source": [
    "ranarr.min()"
   ]
  },
  {
   "cell_type": "code",
   "execution_count": 48,
   "id": "c5ac6d6a",
   "metadata": {},
   "outputs": [
    {
     "data": {
      "text/plain": [
       "array([39, 30, 41, 40,  6, 20,  5,  3,  7,  2])"
      ]
     },
     "execution_count": 48,
     "metadata": {},
     "output_type": "execute_result"
    }
   ],
   "source": [
    "ranarr"
   ]
  },
  {
   "cell_type": "code",
   "execution_count": 49,
   "id": "235b120b",
   "metadata": {},
   "outputs": [],
   "source": [
    "#location of max or min value by specifying our max or min\n",
    "#meaning what index value is this max or min value is"
   ]
  },
  {
   "cell_type": "code",
   "execution_count": 50,
   "id": "f36c8771",
   "metadata": {},
   "outputs": [
    {
     "data": {
      "text/plain": [
       "2"
      ]
     },
     "execution_count": 50,
     "metadata": {},
     "output_type": "execute_result"
    }
   ],
   "source": [
    "ranarr.argmax()"
   ]
  },
  {
   "cell_type": "code",
   "execution_count": 51,
   "id": "7f4bfa7a",
   "metadata": {},
   "outputs": [
    {
     "data": {
      "text/plain": [
       "9"
      ]
     },
     "execution_count": 51,
     "metadata": {},
     "output_type": "execute_result"
    }
   ],
   "source": [
    "ranarr.argmin()"
   ]
  },
  {
   "cell_type": "code",
   "execution_count": 52,
   "id": "679de927",
   "metadata": {},
   "outputs": [],
   "source": [
    "######------To figure out the shape of a vector----------#######"
   ]
  },
  {
   "cell_type": "code",
   "execution_count": 53,
   "id": "2c314992",
   "metadata": {},
   "outputs": [
    {
     "data": {
      "text/plain": [
       "(25,)"
      ]
     },
     "execution_count": 53,
     "metadata": {},
     "output_type": "execute_result"
    }
   ],
   "source": [
    "arr.shape"
   ]
  },
  {
   "cell_type": "code",
   "execution_count": 54,
   "id": "445fd0ce",
   "metadata": {},
   "outputs": [],
   "source": [
    "#here (25,) means that array, 'arr' is just a one dimensional"
   ]
  },
  {
   "cell_type": "code",
   "execution_count": 55,
   "id": "1a9e2b5f",
   "metadata": {},
   "outputs": [],
   "source": [
    "# to change it into a two dimensional...."
   ]
  },
  {
   "cell_type": "code",
   "execution_count": 56,
   "id": "279830db",
   "metadata": {},
   "outputs": [],
   "source": [
    "arr = arr.reshape(5,5)"
   ]
  },
  {
   "cell_type": "code",
   "execution_count": 57,
   "id": "126121d2",
   "metadata": {},
   "outputs": [
    {
     "data": {
      "text/plain": [
       "(5, 5)"
      ]
     },
     "execution_count": 57,
     "metadata": {},
     "output_type": "execute_result"
    }
   ],
   "source": [
    "arr.shape"
   ]
  },
  {
   "cell_type": "code",
   "execution_count": 58,
   "id": "d4b6a3f5",
   "metadata": {},
   "outputs": [
    {
     "data": {
      "text/plain": [
       "dtype('int64')"
      ]
     },
     "execution_count": 58,
     "metadata": {},
     "output_type": "execute_result"
    }
   ],
   "source": [
    "arr.dtype"
   ]
  },
  {
   "cell_type": "code",
   "execution_count": 59,
   "id": "12977269",
   "metadata": {},
   "outputs": [],
   "source": [
    "#'dtype' shows the data type..here it is 64bit integers....\n"
   ]
  },
  {
   "cell_type": "code",
   "execution_count": 60,
   "id": "34adf559",
   "metadata": {},
   "outputs": [],
   "source": [
    "#if we don't want to type np.random.rand, then use following command"
   ]
  },
  {
   "cell_type": "code",
   "execution_count": 61,
   "id": "a8ff7059",
   "metadata": {},
   "outputs": [],
   "source": [
    "from numpy.random import randint"
   ]
  },
  {
   "cell_type": "code",
   "execution_count": 62,
   "id": "770ee8bf",
   "metadata": {},
   "outputs": [
    {
     "data": {
      "text/plain": [
       "2"
      ]
     },
     "execution_count": 62,
     "metadata": {},
     "output_type": "execute_result"
    }
   ],
   "source": [
    "randint(2,6)"
   ]
  },
  {
   "cell_type": "code",
   "execution_count": null,
   "id": "f60fa0c7",
   "metadata": {},
   "outputs": [],
   "source": []
  },
  {
   "cell_type": "code",
   "execution_count": null,
   "id": "eee25f2f",
   "metadata": {},
   "outputs": [],
   "source": []
  }
 ],
 "metadata": {
  "kernelspec": {
   "display_name": "Python 3 (ipykernel)",
   "language": "python",
   "name": "python3"
  },
  "language_info": {
   "codemirror_mode": {
    "name": "ipython",
    "version": 3
   },
   "file_extension": ".py",
   "mimetype": "text/x-python",
   "name": "python",
   "nbconvert_exporter": "python",
   "pygments_lexer": "ipython3",
   "version": "3.9.7"
  }
 },
 "nbformat": 4,
 "nbformat_minor": 5
}
